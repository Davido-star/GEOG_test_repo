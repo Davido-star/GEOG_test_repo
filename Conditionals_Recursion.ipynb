{
  "nbformat": 4,
  "nbformat_minor": 0,
  "metadata": {
    "colab": {
      "name": "Conditionals_Recursion.ipynb",
      "provenance": [],
      "authorship_tag": "ABX9TyNVtCsJsFUh3/GH3MQL3l1Z",
      "include_colab_link": true
    },
    "kernelspec": {
      "name": "python3",
      "display_name": "Python 3"
    }
  },
  "cells": [
    {
      "cell_type": "markdown",
      "metadata": {
        "id": "view-in-github",
        "colab_type": "text"
      },
      "source": [
        "<a href=\"https://colab.research.google.com/github/Davido-star/GEOG_test_repo/blob/main/Conditionals_Recursion.ipynb\" target=\"_parent\"><img src=\"https://colab.research.google.com/assets/colab-badge.svg\" alt=\"Open In Colab\"/></a>"
      ]
    },
    {
      "cell_type": "markdown",
      "metadata": {
        "id": "ClB5t5M4EOGD"
      },
      "source": [
        "Modules Operator "
      ]
    },
    {
      "cell_type": "code",
      "metadata": {
        "colab": {
          "base_uri": "https://localhost:8080/"
        },
        "id": "7u5iSsA7DR3q",
        "outputId": "2f8d26f5-2e9b-43b5-ed14-579e25582c5f"
      },
      "source": [
        "quotient = 7/3\n",
        "print (quotient)"
      ],
      "execution_count": 1,
      "outputs": [
        {
          "output_type": "stream",
          "text": [
            "2.3333333333333335\n"
          ],
          "name": "stdout"
        }
      ]
    },
    {
      "cell_type": "code",
      "metadata": {
        "colab": {
          "base_uri": "https://localhost:8080/"
        },
        "id": "5TBf-aExEfxR",
        "outputId": "49b28f68-9a75-4fdd-e75c-a5762ef217d8"
      },
      "source": [
        "remainder = 7%3\n",
        "print (remainder)"
      ],
      "execution_count": 2,
      "outputs": [
        {
          "output_type": "stream",
          "text": [
            "1\n"
          ],
          "name": "stdout"
        }
      ]
    },
    {
      "cell_type": "markdown",
      "metadata": {
        "id": "MQcU7qKcEnsq"
      },
      "source": [
        "Boolean Expressions "
      ]
    },
    {
      "cell_type": "code",
      "metadata": {
        "colab": {
          "base_uri": "https://localhost:8080/"
        },
        "id": "xrfBUTnxEqn8",
        "outputId": "0c76888c-ef74-4fc7-d955-bb6c7f9fa31b"
      },
      "source": [
        "6 % 3==0 # Whats the output ? 6 is dividadable by 3 without a remainder \n",
        "7 %3 ==0 # checking a condition - is ther something left over? if so its false becasue 7/3 is not equal to 0 remainder "
      ],
      "execution_count": 4,
      "outputs": [
        {
          "output_type": "execute_result",
          "data": {
            "text/plain": [
              "False"
            ]
          },
          "metadata": {
            "tags": []
          },
          "execution_count": 4
        }
      ]
    },
    {
      "cell_type": "code",
      "metadata": {
        "id": "wmnIfWECHXNj"
      },
      "source": [
        "#pg48"
      ],
      "execution_count": null,
      "outputs": []
    },
    {
      "cell_type": "markdown",
      "metadata": {
        "id": "Q6huLNN8HZ4a"
      },
      "source": [
        "Conditional Execution "
      ]
    },
    {
      "cell_type": "code",
      "metadata": {
        "colab": {
          "base_uri": "https://localhost:8080/"
        },
        "id": "vxh8kkykHZX9",
        "outputId": "c073f731-a4e2-4ff1-eb60-de8de6f3e474"
      },
      "source": [
        "water_per_person = 20 \n",
        "if water_per_person >19 : \n",
        "  print(water_per_person, 'post emergency levels.')"
      ],
      "execution_count": 7,
      "outputs": [
        {
          "output_type": "stream",
          "text": [
            "20 post emergency levels.\n"
          ],
          "name": "stdout"
        }
      ]
    },
    {
      "cell_type": "code",
      "metadata": {
        "colab": {
          "base_uri": "https://localhost:8080/"
        },
        "id": "f6mMZF-JH-3i",
        "outputId": "8d67741c-cf39-4b80-910c-d395ba6761f0"
      },
      "source": [
        "x = 16\n",
        "if x % 2==0:\n",
        "  print('x is even.')\n",
        "else:\n",
        "  print('x is odd.')"
      ],
      "execution_count": 11,
      "outputs": [
        {
          "output_type": "stream",
          "text": [
            "x is even.\n"
          ],
          "name": "stdout"
        }
      ]
    },
    {
      "cell_type": "code",
      "metadata": {
        "colab": {
          "base_uri": "https://localhost:8080/"
        },
        "id": "jeCKVockIykz",
        "outputId": "3523b865-68b6-48cd-c845-5eb440b0aa61"
      },
      "source": [
        "\n",
        "def even_odd (x):\n",
        "  if x % 2==0:\n",
        "    print('x is even.')\n",
        "  else:\n",
        "    print('x is odd.')\n",
        "print (even_odd (4/2))"
      ],
      "execution_count": 20,
      "outputs": [
        {
          "output_type": "stream",
          "text": [
            "x is even.\n",
            "None\n"
          ],
          "name": "stdout"
        }
      ]
    },
    {
      "cell_type": "code",
      "metadata": {
        "colab": {
          "base_uri": "https://localhost:8080/"
        },
        "id": "PZB-gH9wLjZZ",
        "outputId": "d59a3158-873c-437d-cb59-cf66f960c892"
      },
      "source": [
        "# chained condition \n",
        "def ifequal (x,y):\n",
        "  if x==y:\n",
        "    print('x and y are equal')\n",
        "  else: \n",
        "    if x<y :\n",
        "      print ('x is less than y')\n",
        "    else:\n",
        "      print ('x is greater than y')\n",
        "ifequal(2,2)"
      ],
      "execution_count": 22,
      "outputs": [
        {
          "output_type": "stream",
          "text": [
            "x and y are equal\n"
          ],
          "name": "stdout"
        }
      ]
    },
    {
      "cell_type": "code",
      "metadata": {
        "colab": {
          "base_uri": "https://localhost:8080/"
        },
        "id": "PmVH56bzNrHr",
        "outputId": "7f697288-c8ab-45e3-872c-86817bd6894b"
      },
      "source": [
        "# this function takes an inteeger as an input and counts to down to zero \n",
        "def countdown (n):\n",
        "  if n == 0:\n",
        "    print('Blastoff!')\n",
        "  else:\n",
        "    print(n)\n",
        "    countdown(n-1)\n",
        "countdown(10) #maks the function run until a connection is met "
      ],
      "execution_count": 24,
      "outputs": [
        {
          "output_type": "stream",
          "text": [
            "10\n",
            "9\n",
            "8\n",
            "7\n",
            "6\n",
            "5\n",
            "4\n",
            "3\n",
            "2\n",
            "1\n",
            "Blastoff!\n"
          ],
          "name": "stdout"
        }
      ]
    },
    {
      "cell_type": "code",
      "metadata": {
        "colab": {
          "base_uri": "https://localhost:8080/"
        },
        "id": "aHggvhZaPliJ",
        "outputId": "7e0fb8fe-b1de-47b3-9722-b33d184ad1ee"
      },
      "source": [
        "#input : this function takes two integers as an argument \n",
        "#output: in prints s n times \n",
        "def print_n(s,n):\n",
        "  if n==0:\n",
        "    return \n",
        "  print(s)\n",
        "  print_n(s, n-1)\n",
        "\n",
        "print_n(2,3)"
      ],
      "execution_count": 34,
      "outputs": [
        {
          "output_type": "stream",
          "text": [
            "2\n",
            "2\n",
            "2\n"
          ],
          "name": "stdout"
        }
      ]
    },
    {
      "cell_type": "code",
      "metadata": {
        "colab": {
          "base_uri": "https://localhost:8080/"
        },
        "id": "rPF0e-6BRvy1",
        "outputId": "781ed589-f54a-46a9-e137-07b13449c22a"
      },
      "source": [
        "def sumInt(num):\n",
        "  if num ==0 :\n",
        "    return 0 \n",
        "  else:\n",
        "    return num + sumInt(num-1)\n",
        "\n",
        "sumInt(4)\n"
      ],
      "execution_count": 38,
      "outputs": [
        {
          "output_type": "execute_result",
          "data": {
            "text/plain": [
              "10"
            ]
          },
          "metadata": {
            "tags": []
          },
          "execution_count": 38
        }
      ]
    },
    {
      "cell_type": "markdown",
      "metadata": {
        "id": "z1Z_aENSIxii"
      },
      "source": [
        ""
      ]
    }
  ]
}